{
 "cells": [
  {
   "cell_type": "markdown",
   "id": "f7da7711-5d65-4f31-ac12-d2301338344e",
   "metadata": {},
   "source": [
    "## Binary Classification Model"
   ]
  },
  {
   "cell_type": "markdown",
   "id": "d64b7486-d451-40f2-af81-f84802b3539e",
   "metadata": {},
   "source": [
    "## AIM:"
   ]
  },
  {
   "cell_type": "markdown",
   "id": "e5546a0d-4357-4569-9cb8-c12c8e818b41",
   "metadata": {},
   "source": [
    "To write a program to implement the binary classification model using python"
   ]
  },
  {
   "cell_type": "markdown",
   "id": "ae256d09-dada-4118-85e4-12ef51d209f1",
   "metadata": {},
   "source": [
    "### Procedure:"
   ]
  },
  {
   "cell_type": "markdown",
   "id": "059d703a-c50c-4138-90e5-3a841b745d96",
   "metadata": {},
   "source": [
    "Step-1: Define exploratory and target variables\n",
    "\n",
    "Step-2: Split the dataset into training and testing sets.\n",
    "\n",
    "Step-3: Normalize the data for numerical stability\n",
    "\n",
    "Step-4: Fix a logistic regression model to the training data\n",
    "\n",
    "Step-5: Make prediction on the testing data\n",
    "\n",
    "Step-6: Calculate the accuracy score by comparing the actual values and predicted values."
   ]
  },
  {
   "cell_type": "markdown",
   "id": "33a32e58-377a-4a69-8dd8-a6085ba6765d",
   "metadata": {},
   "source": [
    "### Program:"
   ]
  },
  {
   "cell_type": "code",
   "execution_count": 14,
   "id": "c07189b4-b956-4957-aaef-a76bf1da9e53",
   "metadata": {},
   "outputs": [
    {
     "name": "stdout",
     "output_type": "stream",
     "text": [
      "Predicting the output of [1, 1, 1]= 1\n"
     ]
    }
   ],
   "source": [
    "import numpy as np\n",
    "class Perceptron(object):\n",
    "    \"\"\"Perceptron Classifier \n",
    "    Parameters\n",
    "    ----------\n",
    "    rate:float\n",
    "    Learning rate(ranging from 0.0 to 1.0)\n",
    "    number of iterations over the input dataset.\n",
    "    Attributes:\n",
    "    -----------\n",
    "    weight_matrix:1d-array\n",
    "    Weights after fitting\n",
    "    error_matrix:list \n",
    "    Number of misclaffication in every epoch(one full training cycle on the training set)\n",
    "    \"\"\"\n",
    "\n",
    "    def __init__(self, rate=0.01, number_of_iterations= 100):\n",
    "        self.rate=rate\n",
    "        self.number_of_iterations= number_of_iterations\n",
    "\n",
    "    def fit(self, X, y):\n",
    "        \"\"\"Fit training data\n",
    "        Paramters:\n",
    "        ----------\n",
    "        X: array-like, shape=[number_of_samples, number_of_features]\n",
    "        Training vectors\n",
    "        y: arrAay-like, shape= [number_of_samples]\n",
    "        Target values.\n",
    "        Returns\n",
    "        ----------\n",
    "        self: object\n",
    "        \"\"\"\n",
    "        self.weight_matrix= np.zeros(1+X.shape[1])\n",
    "        self.error_lists= []\n",
    "        for _ in range(self.number_of_iterations):\n",
    "            errors=0\n",
    "            for xi, target in zip(X,y):\n",
    "                update= self.rate*(target- self.predict(xi))\n",
    "                self.weight_matrix[1:]+=update*xi\n",
    "                self.weight_matrix[0]+=update\n",
    "                errors+= int(update !=0.0)\n",
    "            self.error_lists.append(errors)\n",
    "        return self\n",
    "\n",
    "    def dot_product(self,X):\n",
    "        \"\"\"Calculate the dot product \"\"\"\n",
    "        return (np.dot(X, self.weight_matrix[1:])+ self.weight_matrix[0])\n",
    "\n",
    "    def predict(self,X):\n",
    "        \"\"\"Predicting the label for the input data.\"\"\"\n",
    "        return np.where(self.dot_product(X)>=0.0,1,0)\n",
    "\n",
    "if __name__ == \"__main__\":\n",
    "    X= np.array([[0,0,0], [0,0,1], [0,1,0], [0,1,1], [1,0,0], [1,0,1], [1,1,0]])\n",
    "    y= np.array([0,1,1,1,1,1])\n",
    "    p=Perceptron()\n",
    "    p.fit(X,y)\n",
    "    print(\"Predicting the output of [1, 1, 1]= {}\". format(p.predict([1,1,1])))"
   ]
  },
  {
   "cell_type": "markdown",
   "id": "a50a7681-4ff6-4fc5-9d3d-70a326c9019a",
   "metadata": {},
   "source": [
    "### Result"
   ]
  },
  {
   "cell_type": "markdown",
   "id": "2b728dbe-fd21-4a2d-bfec-86672db4ddb6",
   "metadata": {},
   "source": [
    "Thus the program for implementing binary classification model was implemented and executed succesfully."
   ]
  }
 ],
 "metadata": {
  "kernelspec": {
   "display_name": "Python 3 (ipykernel)",
   "language": "python",
   "name": "python3"
  },
  "language_info": {
   "codemirror_mode": {
    "name": "ipython",
    "version": 3
   },
   "file_extension": ".py",
   "mimetype": "text/x-python",
   "name": "python",
   "nbconvert_exporter": "python",
   "pygments_lexer": "ipython3",
   "version": "3.12.7"
  }
 },
 "nbformat": 4,
 "nbformat_minor": 5
}
